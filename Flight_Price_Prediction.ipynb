{
  "metadata": {
    "kernelspec": {
      "language": "python",
      "display_name": "Python 3",
      "name": "python3"
    },
    "language_info": {
      "pygments_lexer": "ipython3",
      "nbconvert_exporter": "python",
      "version": "3.6.4",
      "file_extension": ".py",
      "codemirror_mode": {
        "name": "ipython",
        "version": 3
      },
      "name": "python",
      "mimetype": "text/x-python"
    },
    "colab": {
      "provenance": [],
      "include_colab_link": true
    }
  },
  "nbformat_minor": 0,
  "nbformat": 4,
  "cells": [
    {
      "cell_type": "markdown",
      "metadata": {
        "id": "view-in-github",
        "colab_type": "text"
      },
      "source": [
        "<a href=\"https://colab.research.google.com/github/shubshub-bol/FlightFarePred/blob/main/Flight_Price_Prediction.ipynb\" target=\"_parent\"><img src=\"https://colab.research.google.com/assets/colab-badge.svg\" alt=\"Open In Colab\"/></a>"
      ]
    },
    {
      "cell_type": "markdown",
      "source": [
        "<a id = '5.5'></a>\n",
        "<p style = \"font-size : 25px; color : #34656d ; font-family : 'Comic Sans MS'; text-align : center; background-color : #fbc6a4; border-radius: 5px 5px;\"><strong>Flight Price Prediction</strong></p>"
      ],
      "metadata": {
        "execution": {
          "iopub.status.busy": "2021-05-23T11:01:33.962579Z",
          "iopub.execute_input": "2021-05-23T11:01:33.962968Z",
          "iopub.status.idle": "2021-05-23T11:01:33.969193Z",
          "shell.execute_reply.started": "2021-05-23T11:01:33.962937Z",
          "shell.execute_reply": "2021-05-23T11:01:33.968047Z"
        },
        "id": "8fQU3CMQ2ZGN"
      }
    },
    {
      "cell_type": "code",
      "source": [
        "from google.colab import drive\n",
        "drive.mount('/content/drive')"
      ],
      "metadata": {
        "colab": {
          "base_uri": "https://localhost:8080/"
        },
        "id": "8kGLL2Fq8CPJ",
        "outputId": "3d5f8313-0e27-4bc9-873b-550da32a4164"
      },
      "execution_count": null,
      "outputs": [
        {
          "output_type": "stream",
          "name": "stdout",
          "text": [
            "Mounted at /content/drive\n"
          ]
        }
      ]
    },
    {
      "cell_type": "code",
      "source": [
        "#importing libraries\n",
        "import pandas as pd\n",
        "import numpy as np\n",
        "import seaborn as sns\n",
        "import matplotlib.pyplot as plt\n",
        "from sklearn.preprocessing import StandardScaler\n",
        "from sklearn.model_selection import train_test_split,GridSearchCV\n",
        "from sklearn.metrics import accuracy_score,confusion_matrix\n",
        "\n",
        "import warnings\n",
        "warnings.filterwarnings('ignore')\n"
      ],
      "metadata": {
        "execution": {
          "iopub.status.busy": "2021-05-25T10:21:05.830164Z",
          "iopub.execute_input": "2021-05-25T10:21:05.830578Z",
          "iopub.status.idle": "2021-05-25T10:21:06.863156Z",
          "shell.execute_reply.started": "2021-05-25T10:21:05.830499Z",
          "shell.execute_reply": "2021-05-25T10:21:06.862255Z"
        },
        "trusted": true,
        "id": "VMcSWG3Y2ZGO"
      },
      "execution_count": null,
      "outputs": []
    },
    {
      "cell_type": "markdown",
      "source": [
        "# Importing dataset\n",
        "1.Since data is in form of excel file we have to use pandas read_excel to load the data.   \n",
        "2.After loading it is important to check null values in a column or a row           \n",
        "3.If it is present then following can be done,                                                                                   \n",
        "*       Filling NaN values with mean, median and mode using fillna() method                                                           \n",
        "*       If Less missing values, we can drop it as well           "
      ],
      "metadata": {
        "id": "_9cjHHnZ2ZGO"
      }
    },
    {
      "cell_type": "code",
      "source": [
        "#importing data\n",
        "df=pd.read_excel('/content/Flight_Fare.xlsx')\n",
        "df.head()\n"
      ],
      "metadata": {
        "execution": {
          "iopub.status.busy": "2021-05-25T10:21:10.308041Z",
          "iopub.execute_input": "2021-05-25T10:21:10.308331Z",
          "iopub.status.idle": "2021-05-25T10:21:10.471571Z",
          "shell.execute_reply.started": "2021-05-25T10:21:10.3083Z",
          "shell.execute_reply": "2021-05-25T10:21:10.466005Z"
        },
        "trusted": true,
        "id": "nK20t53e2ZGO"
      },
      "execution_count": null,
      "outputs": []
    },
    {
      "cell_type": "code",
      "source": [
        " # creating it for future use case\n",
        " df2=df.copy()\n",
        " df3=df.copy()"
      ],
      "metadata": {
        "id": "QsjJ11S9XUxm"
      },
      "execution_count": null,
      "outputs": []
    },
    {
      "cell_type": "code",
      "source": [
        "#information about the data\n",
        "df.info()\n"
      ],
      "metadata": {
        "execution": {
          "iopub.status.busy": "2021-05-25T10:21:10.472827Z",
          "iopub.status.idle": "2021-05-25T10:21:10.473295Z"
        },
        "trusted": true,
        "id": "Aw1MMmR-2ZGP"
      },
      "execution_count": null,
      "outputs": []
    },
    {
      "cell_type": "code",
      "source": [
        "#describe about the data\n",
        "df.describe()"
      ],
      "metadata": {
        "execution": {
          "iopub.status.busy": "2021-05-25T10:21:10.478842Z",
          "iopub.status.idle": "2021-05-25T10:21:10.479281Z"
        },
        "trusted": true,
        "id": "KvyMfU0Q2ZGP"
      },
      "execution_count": null,
      "outputs": []
    },
    {
      "cell_type": "code",
      "source": [
        "df.shape"
      ],
      "metadata": {
        "execution": {
          "iopub.status.busy": "2021-05-25T10:21:10.480421Z",
          "iopub.status.idle": "2021-05-25T10:21:10.480837Z"
        },
        "trusted": true,
        "id": "5F-yv6SZ2ZGP"
      },
      "execution_count": null,
      "outputs": []
    },
    {
      "cell_type": "code",
      "source": [
        "#finding the null values\n",
        "df.isnull().sum()"
      ],
      "metadata": {
        "execution": {
          "iopub.status.busy": "2021-05-25T10:21:10.481743Z",
          "iopub.status.idle": "2021-05-25T10:21:10.482131Z"
        },
        "trusted": true,
        "id": "W2nIy26c2ZGP"
      },
      "execution_count": null,
      "outputs": []
    },
    {
      "cell_type": "markdown",
      "source": [
        "### **We observe 2 missing values,So directly drop these as these are very less.**"
      ],
      "metadata": {
        "id": "MlxAvCTa2ZGQ"
      }
    },
    {
      "cell_type": "code",
      "source": [
        "#drop the nullvalues\n",
        "df.dropna(inplace=True)"
      ],
      "metadata": {
        "execution": {
          "iopub.status.busy": "2021-05-25T10:21:10.484313Z",
          "iopub.status.idle": "2021-05-25T10:21:10.484707Z"
        },
        "trusted": true,
        "id": "HWyZlTsy2ZGQ"
      },
      "execution_count": null,
      "outputs": []
    },
    {
      "cell_type": "code",
      "source": [
        "df.isnull().sum()"
      ],
      "metadata": {
        "execution": {
          "iopub.status.busy": "2021-05-25T10:21:10.485654Z",
          "iopub.status.idle": "2021-05-25T10:21:10.486077Z"
        },
        "trusted": true,
        "id": "_acGrT8X2ZGQ"
      },
      "execution_count": null,
      "outputs": []
    },
    {
      "cell_type": "markdown",
      "source": [
        "<a id = '5.5'></a>\n",
        "<p style = \"font-size : 25px; color : 'blue' ; font-family : 'Comic Sans MS'; text-align : center; background-color : #fbc6a4; border-radius: 5px 5px;\"><strong>Data Cleaning</strong></p>"
      ],
      "metadata": {
        "id": "kP2rBZpR2ZGQ"
      }
    },
    {
      "cell_type": "code",
      "source": [
        "# datatypes\n",
        "df.dtypes"
      ],
      "metadata": {
        "execution": {
          "iopub.status.busy": "2021-05-25T10:21:10.48717Z",
          "iopub.status.idle": "2021-05-25T10:21:10.48757Z"
        },
        "trusted": true,
        "id": "7albZXWc2ZGQ"
      },
      "execution_count": null,
      "outputs": []
    },
    {
      "cell_type": "markdown",
      "source": [
        "#### The datatypes of Date_of_journey,Arrival_Time and Dep_Time is object.So,firstly we convert it into date and time for proper predicion.\n",
        "\n",
        "**dt.day method will extract only day of that date                           \n",
        "dt.month method will extract only month of that date**"
      ],
      "metadata": {
        "id": "2RBCrWJp2ZGQ"
      }
    },
    {
      "cell_type": "code",
      "source": [
        "def change_into_datetime(col):\n",
        "    df[col]=pd.to_datetime(df[col])"
      ],
      "metadata": {
        "execution": {
          "iopub.status.busy": "2021-05-25T10:21:10.488452Z",
          "iopub.status.idle": "2021-05-25T10:21:10.488836Z"
        },
        "trusted": true,
        "id": "1CRDfXmX2ZGQ"
      },
      "execution_count": null,
      "outputs": []
    },
    {
      "cell_type": "code",
      "source": [
        "df.columns"
      ],
      "metadata": {
        "execution": {
          "iopub.status.busy": "2021-05-25T10:21:10.489602Z",
          "iopub.status.idle": "2021-05-25T10:21:10.490039Z"
        },
        "trusted": true,
        "id": "3xRykHiQ2ZGQ"
      },
      "execution_count": null,
      "outputs": []
    },
    {
      "cell_type": "code",
      "source": [
        "for i in ['Date_of_Journey','Dep_Time', 'Arrival_Time']:\n",
        "    change_into_datetime(i)"
      ],
      "metadata": {
        "execution": {
          "iopub.status.busy": "2021-05-25T10:21:10.490746Z",
          "iopub.status.idle": "2021-05-25T10:21:10.491144Z"
        },
        "trusted": true,
        "id": "l3PGJ1-a2ZGQ"
      },
      "execution_count": null,
      "outputs": []
    },
    {
      "cell_type": "code",
      "source": [
        "df.dtypes"
      ],
      "metadata": {
        "execution": {
          "iopub.status.busy": "2021-05-25T10:21:10.492008Z",
          "iopub.status.idle": "2021-05-25T10:21:10.492393Z"
        },
        "trusted": true,
        "id": "Rm_f7M4_2ZGQ"
      },
      "execution_count": null,
      "outputs": []
    },
    {
      "cell_type": "markdown",
      "source": [
        "##### Now ,we extract day and month from Date_of_journey and stored in 2 other columns.\n",
        "##### Then there will be no use of 'Date_of_Journey' column,so we drop it."
      ],
      "metadata": {
        "id": "Ab7mDPZt2ZGQ"
      }
    },
    {
      "cell_type": "code",
      "source": [
        "df['journey_day']=df['Date_of_Journey'].dt.day\n",
        "df['journey_month']=df['Date_of_Journey'].dt.month\n"
      ],
      "metadata": {
        "execution": {
          "iopub.status.busy": "2021-05-25T10:21:10.493156Z",
          "iopub.status.idle": "2021-05-25T10:21:10.493561Z"
        },
        "trusted": true,
        "id": "7API3z9B2ZGQ"
      },
      "execution_count": null,
      "outputs": []
    },
    {
      "cell_type": "code",
      "source": [
        "df.head(10)"
      ],
      "metadata": {
        "execution": {
          "iopub.status.busy": "2021-05-25T10:21:10.494486Z",
          "iopub.status.idle": "2021-05-25T10:21:10.49487Z"
        },
        "trusted": true,
        "id": "q9pKji092ZGQ"
      },
      "execution_count": null,
      "outputs": []
    },
    {
      "cell_type": "code",
      "source": [
        "df.drop('Date_of_Journey', axis=1, inplace=True)"
      ],
      "metadata": {
        "execution": {
          "iopub.status.busy": "2021-05-25T10:21:10.495614Z",
          "iopub.status.idle": "2021-05-25T10:21:10.496013Z"
        },
        "trusted": true,
        "id": "JtmbLybt2ZGR"
      },
      "execution_count": null,
      "outputs": []
    },
    {
      "cell_type": "markdown",
      "source": [
        "##### From Arrival_time and Dept_time features,we extract hour and minutes and stored in new columns and drop these columns"
      ],
      "metadata": {
        "id": "9JYhu-ZH2ZGR"
      }
    },
    {
      "cell_type": "code",
      "source": [
        "# function for extracting hour and minutes\n",
        "def extract_hour(data,col):\n",
        "    data[col+'_hour']=data[col].dt.hour\n",
        "\n",
        "def extract_min(data,col):\n",
        "    data[col+'_min']=data[col].dt.minute\n",
        "\n",
        "\n",
        "def drop_col(data,col):\n",
        "    data.drop(col,axis=1,inplace=True)"
      ],
      "metadata": {
        "execution": {
          "iopub.status.busy": "2021-05-25T10:21:10.496767Z",
          "iopub.status.idle": "2021-05-25T10:21:10.497169Z"
        },
        "trusted": true,
        "id": "FPaSPht22ZGR"
      },
      "execution_count": null,
      "outputs": []
    },
    {
      "cell_type": "code",
      "source": [
        "#call the function\n",
        "# Departure time is when a plane leaves the gate.\n",
        "# Similar to Date_of_Journey we can extract values from Dep_Time\n",
        "extract_hour(df,'Dep_Time')\n",
        "\n",
        "#extracting minutes\n",
        "extract_min(df,'Dep_Time')\n",
        "\n",
        "#drop the column\n",
        "drop_col(df,'Dep_Time')"
      ],
      "metadata": {
        "execution": {
          "iopub.status.busy": "2021-05-25T10:21:10.49801Z",
          "iopub.status.idle": "2021-05-25T10:21:10.498402Z"
        },
        "trusted": true,
        "id": "z-_oGCM12ZGR"
      },
      "execution_count": null,
      "outputs": []
    },
    {
      "cell_type": "code",
      "source": [
        "#extracting hour\n",
        "extract_hour(df,'Arrival_Time')\n",
        "\n",
        "#extracting min\n",
        "extract_min(df,'Arrival_Time')\n",
        "\n",
        "\n",
        "#drop the column\n",
        "drop_col(df,'Arrival_Time')"
      ],
      "metadata": {
        "execution": {
          "iopub.status.busy": "2021-05-25T10:21:10.499255Z",
          "iopub.status.idle": "2021-05-25T10:21:10.499649Z"
        },
        "trusted": true,
        "id": "9m6JbFnQ2ZGR"
      },
      "execution_count": null,
      "outputs": []
    },
    {
      "cell_type": "code",
      "source": [
        "df.head(10)"
      ],
      "metadata": {
        "execution": {
          "iopub.status.busy": "2021-05-25T10:21:10.500387Z",
          "iopub.status.idle": "2021-05-25T10:21:10.500787Z"
        },
        "trusted": true,
        "id": "YiVDgspP2ZGR"
      },
      "execution_count": null,
      "outputs": []
    },
    {
      "cell_type": "markdown",
      "source": [
        "##### Lets Apply pre-processing on duration column,Separate Duration hours and minute from duration"
      ],
      "metadata": {
        "id": "JZnKR2-Z2ZGR"
      }
    },
    {
      "cell_type": "code",
      "source": [
        "duration=list(df['Duration'])\n",
        "for i in range(len(duration)):\n",
        "    if len(duration[i].split(' '))==2:\n",
        "        pass\n",
        "    else:\n",
        "        if 'h' in duration[i]: # Check if duration contains only hour\n",
        "             duration[i]=duration[i] + ' 0m' # Adds 0 minute\n",
        "        else:\n",
        "             duration[i]='0h '+ duration[i]"
      ],
      "metadata": {
        "execution": {
          "iopub.status.busy": "2021-05-25T10:21:10.501714Z",
          "iopub.status.idle": "2021-05-25T10:21:10.502122Z"
        },
        "trusted": true,
        "id": "Hep6jrLr2ZGR"
      },
      "execution_count": null,
      "outputs": []
    },
    {
      "cell_type": "code",
      "source": [
        "df['Duration']=duration"
      ],
      "metadata": {
        "execution": {
          "iopub.status.busy": "2021-05-25T10:21:10.502973Z",
          "iopub.status.idle": "2021-05-25T10:21:10.503371Z"
        },
        "trusted": true,
        "id": "HRCJd2V72ZGR"
      },
      "execution_count": null,
      "outputs": []
    },
    {
      "cell_type": "code",
      "source": [
        "df.head()"
      ],
      "metadata": {
        "execution": {
          "iopub.status.busy": "2021-05-25T10:21:10.504214Z",
          "iopub.status.idle": "2021-05-25T10:21:10.504608Z"
        },
        "trusted": true,
        "id": "nsOFYihe2ZGR"
      },
      "execution_count": null,
      "outputs": []
    },
    {
      "cell_type": "code",
      "source": [
        "def hour(x):\n",
        "    return x.split(' ')[0][0:-1]\n",
        "\n",
        "def minutes(x):\n",
        "    return x.split(' ')[1][0:-1]\n",
        "\n"
      ],
      "metadata": {
        "execution": {
          "iopub.status.busy": "2021-05-25T10:21:10.505627Z",
          "iopub.status.idle": "2021-05-25T10:21:10.506035Z"
        },
        "trusted": true,
        "id": "C-FRmZ0X2ZGR"
      },
      "execution_count": null,
      "outputs": []
    },
    {
      "cell_type": "code",
      "source": [
        "df['dur_hour']=df['Duration'].apply(hour)"
      ],
      "metadata": {
        "execution": {
          "iopub.status.busy": "2021-05-25T10:21:10.50678Z",
          "iopub.status.idle": "2021-05-25T10:21:10.507206Z"
        },
        "trusted": true,
        "id": "MaBPG2OK2ZGR"
      },
      "execution_count": null,
      "outputs": []
    },
    {
      "cell_type": "code",
      "source": [
        "df['dur_min']=df['Duration'].apply(minutes)"
      ],
      "metadata": {
        "execution": {
          "iopub.status.busy": "2021-05-25T10:21:10.50801Z",
          "iopub.status.idle": "2021-05-25T10:21:10.508398Z"
        },
        "trusted": true,
        "id": "EgfHZ-3L2ZGR"
      },
      "execution_count": null,
      "outputs": []
    },
    {
      "cell_type": "code",
      "source": [
        "df.head(10)"
      ],
      "metadata": {
        "execution": {
          "iopub.status.busy": "2021-05-25T10:21:10.50926Z",
          "iopub.status.idle": "2021-05-25T10:21:10.509657Z"
        },
        "trusted": true,
        "id": "ZpeBRruQ2ZGR"
      },
      "execution_count": null,
      "outputs": []
    },
    {
      "cell_type": "code",
      "source": [
        "drop_col(df,'Duration')"
      ],
      "metadata": {
        "execution": {
          "iopub.status.busy": "2021-05-25T10:21:10.510515Z",
          "iopub.status.idle": "2021-05-25T10:21:10.510905Z"
        },
        "trusted": true,
        "id": "Thnw1xjR2ZGV"
      },
      "execution_count": null,
      "outputs": []
    },
    {
      "cell_type": "code",
      "source": [
        "df.dtypes"
      ],
      "metadata": {
        "execution": {
          "iopub.status.busy": "2021-05-25T10:21:10.511671Z",
          "iopub.status.idle": "2021-05-25T10:21:10.512072Z"
        },
        "trusted": true,
        "id": "Vb5fwJhz2ZGV"
      },
      "execution_count": null,
      "outputs": []
    },
    {
      "cell_type": "code",
      "source": [
        "df['dur_hour'] = df['dur_hour'].astype(int)\n",
        "df['dur_min'] = df['dur_min'].astype(int)"
      ],
      "metadata": {
        "execution": {
          "iopub.status.busy": "2021-05-25T10:21:10.513069Z",
          "iopub.status.idle": "2021-05-25T10:21:10.513465Z"
        },
        "trusted": true,
        "id": "WnXMKB0t2ZGV"
      },
      "execution_count": null,
      "outputs": []
    },
    {
      "cell_type": "code",
      "source": [
        "df.dtypes"
      ],
      "metadata": {
        "execution": {
          "iopub.status.busy": "2021-05-25T10:21:10.514396Z",
          "iopub.status.idle": "2021-05-25T10:21:10.5148Z"
        },
        "trusted": true,
        "id": "2-vNmt262ZGV"
      },
      "execution_count": null,
      "outputs": []
    },
    {
      "cell_type": "markdown",
      "source": [
        "#### Finding the categorical value"
      ],
      "metadata": {
        "id": "mPCyXnhU2ZGV"
      }
    },
    {
      "cell_type": "markdown",
      "source": [
        "## Airline vs Price Analysis"
      ],
      "metadata": {
        "id": "OslO-OqV2ZGW"
      }
    },
    {
      "cell_type": "code",
      "source": [
        "plt.figure(figsize=(15, 8))\n",
        "sns.boxplot(\n",
        "    x='Airline',\n",
        "    y='Price',\n",
        "    data=df.sort_values('Price', ascending=False),\n",
        "    palette='Set2'  # Try 'Set2', 'husl', 'coolwarm', 'Spectral', etc.\n",
        ")\n",
        "\n",
        "plt.title(\"Airline vs Price Distribution\", fontsize=16, fontweight='bold')\n",
        "plt.xticks(rotation=45)\n",
        "plt.ylabel(\"Price (INR)\")\n",
        "plt.xlabel(\"Airline\")\n",
        "plt.tight_layout()\n",
        "plt.show()\n"
      ],
      "metadata": {
        "collapsed": true,
        "id": "NhqYhyZEFbaL"
      },
      "execution_count": null,
      "outputs": []
    },
    {
      "cell_type": "markdown",
      "source": [
        "\n",
        "### From graph we can see that Jet Airways Business have the highest Price., Apart from the first Airline almost all are having similar median"
      ],
      "metadata": {
        "id": "r4cCAmm_2ZGW"
      }
    },
    {
      "cell_type": "markdown",
      "source": [
        "#### Perform Total_Stops vs Price Analysis"
      ],
      "metadata": {
        "id": "lgowrqrp2ZGW"
      }
    },
    {
      "cell_type": "code",
      "source": [
        "plt.figure(figsize=(15,8))\n",
        "sns.boxplot(x='Total_Stops',y='Price',data=df.sort_values('Price',ascending=False),palette='husl' )\n",
        "plt.title(\"Total_Stops vs Price Distribution\", fontsize=16, fontweight='bold')\n",
        "plt.xticks(rotation=45)\n",
        "plt.ylabel(\"Price (INR)\")\n",
        "plt.xlabel(\"Total_Stops\")\n",
        "plt.tight_layout()\n",
        "plt.show()"
      ],
      "metadata": {
        "execution": {
          "iopub.status.busy": "2021-05-25T10:21:10.523291Z",
          "iopub.status.idle": "2021-05-25T10:21:10.523683Z"
        },
        "trusted": true,
        "id": "FkKfJ0El2ZGW"
      },
      "execution_count": null,
      "outputs": []
    },
    {
      "cell_type": "markdown",
      "source": [
        "# Handling categorical data\n",
        "\n"
      ],
      "metadata": {
        "id": "GBtGvYb_2ZGV"
      }
    },
    {
      "cell_type": "markdown",
      "source": [
        "\n",
        "### We are using two main Encoding Techniques to covert Categorical data into some numerical format\n",
        "\n",
        "#### Nominal data -- Data that are not in any order -->one hot encoding\n",
        "#### ordinal data -- Data are in order --> labelEncoder"
      ],
      "metadata": {
        "id": "57jMyUOv2ZGV"
      }
    },
    {
      "cell_type": "code",
      "source": [
        "# As Airline is Nominal Categorical data we will perform OneHotEncoding\n",
        "Airline=pd.get_dummies(df['Airline'],drop_first=True)"
      ],
      "metadata": {
        "execution": {
          "iopub.status.busy": "2021-05-25T10:21:10.524578Z",
          "iopub.status.idle": "2021-05-25T10:21:10.52496Z"
        },
        "trusted": true,
        "id": "NGi3ixD12ZGX"
      },
      "execution_count": null,
      "outputs": []
    },
    {
      "cell_type": "code",
      "source": [
        "Airline.head()"
      ],
      "metadata": {
        "execution": {
          "iopub.status.busy": "2021-05-25T10:21:10.525781Z",
          "iopub.status.idle": "2021-05-25T10:21:10.526195Z"
        },
        "trusted": true,
        "id": "C-PkN3xN2ZGX"
      },
      "execution_count": null,
      "outputs": []
    },
    {
      "cell_type": "code",
      "source": [
        "# Value counts for Source and Destination\n",
        "source_counts = df2['Source'].value_counts()\n",
        "destination_counts = df2['Destination'].value_counts()\n",
        "\n",
        "# Create subplots\n",
        "fig, axes = plt.subplots(1, 2, figsize=(14, 6))\n",
        "\n",
        "# Style settings\n",
        "sns.set_style(\"whitegrid\")\n",
        "palette_src = sns.color_palette(\"viridis\", len(source_counts))\n",
        "palette_dest = sns.color_palette(\"plasma\", len(destination_counts))\n",
        "\n",
        "# Source plot\n",
        "sns.barplot(x=source_counts.index, y=source_counts.values, palette=palette_src, ax=axes[0])\n",
        "axes[0].set_title('Flights by Source City', fontsize=16, fontweight='bold')\n",
        "axes[0].set_xlabel('Source City', fontsize=12)\n",
        "axes[0].set_ylabel('Number of Flights', fontsize=12)\n",
        "axes[0].tick_params(axis='x', rotation=45)\n",
        "\n",
        "# Destination plot\n",
        "sns.barplot(x=destination_counts.index, y=destination_counts.values, palette=palette_dest, ax=axes[1])\n",
        "axes[1].set_title('Flights by Destination City', fontsize=16, fontweight='bold')\n",
        "axes[1].set_xlabel('Destination City', fontsize=12)\n",
        "axes[1].set_ylabel('Number of Flights', fontsize=12)\n",
        "axes[1].tick_params(axis='x', rotation=45)\n",
        "\n",
        "# Layout\n",
        "plt.tight_layout()\n",
        "plt.show()\n"
      ],
      "metadata": {
        "execution": {
          "iopub.status.busy": "2021-05-25T10:21:10.527045Z",
          "iopub.status.idle": "2021-05-25T10:21:10.527438Z"
        },
        "trusted": true,
        "id": "QgPBtLhM2ZGX"
      },
      "execution_count": null,
      "outputs": []
    },
    {
      "cell_type": "code",
      "source": [
        "#encoding of source column\n",
        "source=pd.get_dummies(df['Source'],drop_first=True)\n",
        "source.head()"
      ],
      "metadata": {
        "execution": {
          "iopub.status.busy": "2021-05-25T10:21:10.529282Z",
          "iopub.status.idle": "2021-05-25T10:21:10.529678Z"
        },
        "trusted": true,
        "id": "w5yCYU-H2ZGX"
      },
      "execution_count": null,
      "outputs": []
    },
    {
      "cell_type": "code",
      "source": [
        "plt.figure(figsize=(15,8))\n",
        "sns.boxplot(x='Destination',y='Price',data=df.sort_values('Price',ascending=False),palette='husl')\n",
        "plt.title(\"Source vs Price Distribution\", fontsize=16, fontweight='bold')\n",
        "plt.ylabel(\"Price (INR)\")\n",
        "plt.xlabel(\"Source\")\n",
        "plt.tight_layout()\n",
        "plt.show()"
      ],
      "metadata": {
        "execution": {
          "iopub.status.busy": "2021-05-25T10:21:10.531739Z",
          "iopub.status.idle": "2021-05-25T10:21:10.532138Z"
        },
        "trusted": true,
        "id": "LN1vD9CH2ZGX"
      },
      "execution_count": null,
      "outputs": []
    },
    {
      "cell_type": "code",
      "source": [
        "#encoding of destination column\n",
        "destination=pd.get_dummies(df['Destination'],drop_first=True)\n",
        "destination.head()"
      ],
      "metadata": {
        "execution": {
          "iopub.status.busy": "2021-05-25T10:21:10.532895Z",
          "iopub.status.idle": "2021-05-25T10:21:10.533307Z"
        },
        "trusted": true,
        "id": "VyRbA98G2ZGX"
      },
      "execution_count": null,
      "outputs": []
    },
    {
      "cell_type": "code",
      "source": [
        "# now work on route column\n",
        "df['Route'].value_counts()\n"
      ],
      "metadata": {
        "execution": {
          "iopub.status.busy": "2021-05-25T10:21:10.534153Z",
          "iopub.status.idle": "2021-05-25T10:21:10.534531Z"
        },
        "trusted": true,
        "id": "9FLMsHZM2ZGX"
      },
      "execution_count": null,
      "outputs": []
    },
    {
      "cell_type": "code",
      "source": [
        "df['Route1'] = df['Route'].str.split('→').str[0]\n",
        "df['Route2'] = df['Route'].str.split('→').str[1]\n",
        "df['Route3'] = df['Route'].str.split('→').str[2]\n",
        "df['Route4'] = df['Route'].str.split('→').str[3]\n",
        "df['Route5'] = df['Route'].str.split('→').str[4]\n"
      ],
      "metadata": {
        "execution": {
          "iopub.status.busy": "2021-05-25T10:21:10.535507Z",
          "iopub.status.idle": "2021-05-25T10:21:10.535883Z"
        },
        "trusted": true,
        "id": "vt0cDRJT2ZGX"
      },
      "execution_count": null,
      "outputs": []
    },
    {
      "cell_type": "code",
      "source": [
        "df.head()"
      ],
      "metadata": {
        "execution": {
          "iopub.status.busy": "2021-05-25T10:21:10.53663Z",
          "iopub.status.idle": "2021-05-25T10:21:10.537016Z"
        },
        "trusted": true,
        "id": "PEF9kjX_2ZGX"
      },
      "execution_count": null,
      "outputs": []
    },
    {
      "cell_type": "code",
      "source": [
        "drop_col(df,'Route')"
      ],
      "metadata": {
        "execution": {
          "iopub.status.busy": "2021-05-25T10:21:10.539271Z",
          "iopub.status.idle": "2021-05-25T10:21:10.539654Z"
        },
        "trusted": true,
        "id": "1JIU99es2ZGX"
      },
      "execution_count": null,
      "outputs": []
    },
    {
      "cell_type": "code",
      "source": [
        "df"
      ],
      "metadata": {
        "id": "kLzcr0khpDQ_"
      },
      "execution_count": null,
      "outputs": []
    },
    {
      "cell_type": "code",
      "source": [
        "df.isnull().sum()"
      ],
      "metadata": {
        "execution": {
          "iopub.status.busy": "2021-05-25T10:21:10.540353Z",
          "iopub.status.idle": "2021-05-25T10:21:10.540749Z"
        },
        "trusted": true,
        "id": "rtoEINNZ2ZGX"
      },
      "execution_count": null,
      "outputs": []
    },
    {
      "cell_type": "code",
      "source": [
        "df.columns"
      ],
      "metadata": {
        "execution": {
          "iopub.status.busy": "2021-05-25T10:21:10.541628Z",
          "iopub.status.idle": "2021-05-25T10:21:10.542024Z"
        },
        "trusted": true,
        "id": "yHABSL4h2ZGY"
      },
      "execution_count": null,
      "outputs": []
    },
    {
      "cell_type": "code",
      "source": [
        "for i in ['Route3', 'Route4', 'Route5']:\n",
        "    df[i].fillna('None',inplace=True)"
      ],
      "metadata": {
        "execution": {
          "iopub.status.busy": "2021-05-25T10:21:10.542945Z",
          "iopub.status.idle": "2021-05-25T10:21:10.543357Z"
        },
        "trusted": true,
        "id": "S7tidfq82ZGY"
      },
      "execution_count": null,
      "outputs": []
    },
    {
      "cell_type": "code",
      "source": [
        "df.isnull().sum()"
      ],
      "metadata": {
        "execution": {
          "iopub.status.busy": "2021-05-25T10:21:10.544247Z",
          "iopub.status.idle": "2021-05-25T10:21:10.544644Z"
        },
        "trusted": true,
        "id": "0YVp0Uta2ZGY"
      },
      "execution_count": null,
      "outputs": []
    },
    {
      "cell_type": "code",
      "source": [
        "for i in df.columns:\n",
        "    print('{} has total {} categories'.format(i,len(df[i].value_counts())))"
      ],
      "metadata": {
        "execution": {
          "iopub.status.busy": "2021-05-25T10:21:10.545518Z",
          "iopub.status.idle": "2021-05-25T10:21:10.545901Z"
        },
        "trusted": true,
        "id": "5XahpC_Q2ZGY"
      },
      "execution_count": null,
      "outputs": []
    },
    {
      "cell_type": "code",
      "source": [
        "# Applying label encoder\n",
        "from sklearn.preprocessing import LabelEncoder\n",
        "encoder = LabelEncoder()"
      ],
      "metadata": {
        "execution": {
          "iopub.status.busy": "2021-05-25T10:21:10.547997Z",
          "iopub.status.idle": "2021-05-25T10:21:10.548387Z"
        },
        "trusted": true,
        "id": "FCG_BnvH2ZGY"
      },
      "execution_count": null,
      "outputs": []
    },
    {
      "cell_type": "code",
      "source": [
        "for i in ['Route1', 'Route2', 'Route3', 'Route4', 'Route5']:\n",
        "    df[i]=encoder.fit_transform(df[i])"
      ],
      "metadata": {
        "execution": {
          "iopub.status.busy": "2021-05-25T10:21:10.549274Z",
          "iopub.status.idle": "2021-05-25T10:21:10.54967Z"
        },
        "trusted": true,
        "id": "RPUaHqka2ZGY"
      },
      "execution_count": null,
      "outputs": []
    },
    {
      "cell_type": "code",
      "source": [
        "df.head()"
      ],
      "metadata": {
        "execution": {
          "iopub.status.busy": "2021-05-25T10:21:10.550576Z",
          "iopub.status.idle": "2021-05-25T10:21:10.550964Z"
        },
        "trusted": true,
        "id": "lhcRiWlV2ZGY"
      },
      "execution_count": null,
      "outputs": []
    },
    {
      "cell_type": "code",
      "source": [
        "drop_col(df,'Additional_Info')"
      ],
      "metadata": {
        "execution": {
          "iopub.status.busy": "2021-05-25T10:21:10.551787Z",
          "iopub.status.idle": "2021-05-25T10:21:10.552186Z"
        },
        "trusted": true,
        "id": "OizjBjTJ2ZGY"
      },
      "execution_count": null,
      "outputs": []
    },
    {
      "cell_type": "code",
      "source": [
        "df['Total_Stops'].unique()"
      ],
      "metadata": {
        "execution": {
          "iopub.status.busy": "2021-05-25T10:21:10.552894Z",
          "iopub.status.idle": "2021-05-25T10:21:10.553297Z"
        },
        "trusted": true,
        "id": "WxVlpatS2ZGY"
      },
      "execution_count": null,
      "outputs": []
    },
    {
      "cell_type": "code",
      "source": [
        "# encoding Total stops\n",
        "dict={'non-stop':0, '2 stops':2, '1 stop':1, '3 stops':3, '4 stops':4}\n",
        "df['Total_Stops']=df['Total_Stops'].map(dict)"
      ],
      "metadata": {
        "execution": {
          "iopub.status.busy": "2021-05-25T10:21:10.554152Z",
          "iopub.status.idle": "2021-05-25T10:21:10.554542Z"
        },
        "trusted": true,
        "id": "Ez0Q9lxZ2ZGY"
      },
      "execution_count": null,
      "outputs": []
    },
    {
      "cell_type": "code",
      "source": [
        "df['Total_Stops']\n"
      ],
      "metadata": {
        "execution": {
          "iopub.status.busy": "2021-05-25T10:21:10.55523Z",
          "iopub.status.idle": "2021-05-25T10:21:10.555625Z"
        },
        "trusted": true,
        "id": "PHpRpHDC2ZGY"
      },
      "execution_count": null,
      "outputs": []
    },
    {
      "cell_type": "code",
      "source": [
        "drop_col(df,'Source')\n",
        "drop_col(df,'Destination')\n",
        "drop_col(df,'Airline')"
      ],
      "metadata": {
        "execution": {
          "iopub.status.busy": "2021-05-25T10:21:10.556566Z",
          "iopub.status.idle": "2021-05-25T10:21:10.556951Z"
        },
        "trusted": true,
        "id": "zwef3fCo2ZGY"
      },
      "execution_count": null,
      "outputs": []
    },
    {
      "cell_type": "markdown",
      "source": [
        "<a id = '5.5'></a>\n",
        "<p style = \"font-size : 25px; color : #34656d ; font-family : 'Comic Sans MS'; text-align : center; background-color : #fbc6a4; border-radius: 5px 5px;\"><strong>After all preprocessing, Our data is ready for the modeling</strong></p>"
      ],
      "metadata": {
        "id": "3DI3T6nw2ZGY"
      }
    },
    {
      "cell_type": "code",
      "source": [
        "final_df=pd.concat([df,Airline,source,destination],axis=1)"
      ],
      "metadata": {
        "id": "j1tZOcNtOcIR"
      },
      "execution_count": null,
      "outputs": []
    },
    {
      "cell_type": "code",
      "source": [
        "final_df.head()"
      ],
      "metadata": {
        "execution": {
          "iopub.status.busy": "2021-05-25T10:21:10.559293Z",
          "iopub.status.idle": "2021-05-25T10:21:10.559702Z"
        },
        "trusted": true,
        "id": "z25HID1c2ZGY"
      },
      "execution_count": null,
      "outputs": []
    },
    {
      "cell_type": "code",
      "source": [
        "pd.set_option('display.max_columns',33)\n",
        "final_df.head()"
      ],
      "metadata": {
        "execution": {
          "iopub.status.busy": "2021-05-25T10:21:10.560607Z",
          "iopub.status.idle": "2021-05-25T10:21:10.561008Z"
        },
        "trusted": true,
        "id": "ZCGOgpRD2ZGY"
      },
      "execution_count": null,
      "outputs": []
    },
    {
      "cell_type": "markdown",
      "source": [
        "## Check For Outliers\n"
      ],
      "metadata": {
        "id": "yEBhM1QF2ZGZ"
      }
    },
    {
      "cell_type": "code",
      "source": [
        "def plot(data, col):\n",
        "    # Set style\n",
        "    sns.set_style(\"whitegrid\")\n",
        "\n",
        "    # Create subplots\n",
        "    fig, (ax1, ax2) = plt.subplots(2, 1, figsize=(10, 8), gridspec_kw={'height_ratios': [3, 1]})\n",
        "\n",
        "    # Distribution plot\n",
        "    sns.histplot(data[col], kde=True, color='skyblue', ax=ax1)\n",
        "    ax1.set_title(f\"Distribution of {col}\", fontsize=16, fontweight='bold')\n",
        "    ax1.set_xlabel(\"\")\n",
        "    ax1.set_ylabel(\"Frequency\")\n",
        "\n",
        "    # Box plot\n",
        "    sns.boxplot(x=data[col], ax=ax2, palette=\"Set2\")\n",
        "    ax2.set_title(f\"Boxplot of {col}\", fontsize=16, fontweight='bold')\n",
        "    ax2.set_xlabel(col)\n",
        "\n",
        "    # Adjust layout\n",
        "    plt.tight_layout()\n",
        "    plt.show()\n"
      ],
      "metadata": {
        "id": "m3i0q-3fPw89"
      },
      "execution_count": null,
      "outputs": []
    },
    {
      "cell_type": "code",
      "source": [
        "plot(final_df,'Price')"
      ],
      "metadata": {
        "execution": {
          "iopub.status.busy": "2021-05-25T10:21:10.56289Z",
          "iopub.status.idle": "2021-05-25T10:21:10.563308Z"
        },
        "trusted": true,
        "id": "T0wnVMnF2ZGZ"
      },
      "execution_count": null,
      "outputs": []
    },
    {
      "cell_type": "markdown",
      "source": [
        "###  Handling outliers:\n",
        "#### As there is some outliers in price feature,so we replace it  with median."
      ],
      "metadata": {
        "id": "IURTG4lz2ZGZ"
      }
    },
    {
      "cell_type": "code",
      "source": [
        "final_df['Price']=np.where(final_df['Price']>=40000,final_df['Price'].median(),final_df['Price'])"
      ],
      "metadata": {
        "execution": {
          "iopub.status.busy": "2021-05-25T10:21:10.564082Z",
          "iopub.status.idle": "2021-05-25T10:21:10.564461Z"
        },
        "trusted": true,
        "id": "5-rDRxfC2ZGZ"
      },
      "execution_count": null,
      "outputs": []
    },
    {
      "cell_type": "code",
      "source": [
        "plot(final_df,'Price')"
      ],
      "metadata": {
        "execution": {
          "iopub.status.busy": "2021-05-25T10:21:10.565552Z",
          "iopub.status.idle": "2021-05-25T10:21:10.566008Z"
        },
        "trusted": true,
        "id": "CJB522Qd2ZGZ"
      },
      "execution_count": null,
      "outputs": []
    },
    {
      "cell_type": "markdown",
      "source": [
        "### Seprate the dataset in X and Y columns"
      ],
      "metadata": {
        "id": "OjLPuMzE2ZGZ"
      }
    },
    {
      "cell_type": "code",
      "source": [
        "X=final_df.drop('Price',axis=1)\n",
        "y=df['Price']"
      ],
      "metadata": {
        "execution": {
          "iopub.status.busy": "2021-05-25T10:21:10.56702Z",
          "iopub.status.idle": "2021-05-25T10:21:10.567436Z"
        },
        "trusted": true,
        "id": "iW32zBd92ZGZ"
      },
      "execution_count": null,
      "outputs": []
    },
    {
      "cell_type": "markdown",
      "source": [
        "# Feature Selection\n",
        "It is about finding the best feature and having good relation with independent variable                                  \n",
        "Issue of dimensionality reduction reduces.\n",
        "\n",
        "For this we use mutual_info_classif"
      ],
      "metadata": {
        "id": "WN6vCpwL2ZGZ"
      }
    },
    {
      "cell_type": "code",
      "source": [
        "from sklearn.feature_selection import mutual_info_classif\n"
      ],
      "metadata": {
        "execution": {
          "iopub.status.busy": "2021-05-25T10:21:10.568359Z",
          "iopub.status.idle": "2021-05-25T10:21:10.568766Z"
        },
        "trusted": true,
        "id": "ZdleJ94v2ZGZ"
      },
      "execution_count": null,
      "outputs": []
    },
    {
      "cell_type": "code",
      "source": [
        "mutual_info_classif(X,y)"
      ],
      "metadata": {
        "execution": {
          "iopub.status.busy": "2021-05-25T10:21:10.571953Z",
          "iopub.status.idle": "2021-05-25T10:21:10.572455Z"
        },
        "trusted": true,
        "id": "e4c6x24h2ZGZ"
      },
      "execution_count": null,
      "outputs": []
    },
    {
      "cell_type": "code",
      "source": [
        "imp = pd.DataFrame(mutual_info_classif(X,y),index=X.columns)\n",
        "imp"
      ],
      "metadata": {
        "execution": {
          "iopub.status.busy": "2021-05-25T10:21:10.573374Z",
          "iopub.status.idle": "2021-05-25T10:21:10.573822Z"
        },
        "trusted": true,
        "id": "6HCg1FE92ZGZ"
      },
      "execution_count": null,
      "outputs": []
    },
    {
      "cell_type": "code",
      "source": [
        "imp.columns=['importance']\n",
        "imp.sort_values(by='importance',ascending=False)"
      ],
      "metadata": {
        "execution": {
          "iopub.status.busy": "2021-05-25T10:21:10.574688Z",
          "iopub.status.idle": "2021-05-25T10:21:10.575158Z"
        },
        "trusted": true,
        "id": "rbUrQHLi2ZGZ"
      },
      "execution_count": null,
      "outputs": []
    },
    {
      "cell_type": "markdown",
      "source": [
        "As we can see from the table, there are several features that have approx 0 value,so we should remove it after authorizing it.But for now,we are not removing it."
      ],
      "metadata": {
        "id": "fakrZTAr2ZGZ"
      }
    },
    {
      "cell_type": "code",
      "source": [
        "# Calculate MI scores\n",
        "mi_scores = mutual_info_classif(X, y, discrete_features='auto')\n",
        "\n",
        "# Create DataFrame\n",
        "mi_df = pd.DataFrame({'Feature': X.columns, 'MI Score': mi_scores})\n",
        "mi_df = mi_df.sort_values(by='MI Score', ascending=False)\n",
        "\n",
        "# Plot\n",
        "plt.figure(figsize=(10,6))\n",
        "sns.barplot(x='MI Score', y='Feature', data=mi_df, palette='viridis')\n",
        "plt.title('Feature Importance (Mutual Information)', fontsize=16)\n",
        "plt.xlabel('Mutual Information Score')\n",
        "plt.ylabel('Feature')\n",
        "plt.show()"
      ],
      "metadata": {
        "id": "cpJOxW-gRtBt"
      },
      "execution_count": null,
      "outputs": []
    },
    {
      "cell_type": "markdown",
      "source": [
        " * Top Features\n",
        "\n",
        "Route2, Route3, and Route1 dominate the list.\n",
        "→ This means the middle legs of the journey carry the most predictive power for ticket price. Probably because connecting airports affect cost significantly.\n",
        "\n",
        "Total_Stops also ranks very high, which makes sense since more stops generally mean cheaper fares (low-cost carriers) or sometimes higher (due to long-haul complexity).\n",
        "\n",
        "* Timing Features\n",
        "\n",
        "Arrival_Time_hour and Dep_Time_hour have strong importance.\n",
        "→ Certain times of day are likely in higher demand (e.g., early morning or evening peak flights).\n",
        "\n",
        "Duration-related features (dur_hour, dur_min) also matter, reflecting the relationship between travel time and cost.\n",
        "\n",
        "* Date-based Features\n",
        "\n",
        "journey_month ranks higher than journey_day, meaning month-based seasonality influences fares more than specific days of the month.\n",
        "(e.g., holiday seasons, summer breaks, etc.)\n",
        "\n",
        "* Low-Importance Features\n",
        "\n",
        "Specific airlines like GoAir, Trujet, and premium-class indicators have low mutual information.\n",
        "→ Could be because their presence in the dataset is rare or because airline brand is less predictive than route/timing.\n",
        "\n"
      ],
      "metadata": {
        "id": "dE4uVogFUNQQ"
      }
    },
    {
      "cell_type": "code",
      "source": [
        "# Helper: split route into list of airports\n",
        "def split_airports(route):\n",
        "    if pd.isna(route):  # Skip if NaN\n",
        "        return []\n",
        "    return [x.strip() for x in str(route).split('→')]\n",
        "\n",
        "# Count take-offs and landings\n",
        "take_off_counts = {}\n",
        "landing_counts = {}\n",
        "\n",
        "for route in df3['Route']:\n",
        "    airports = split_airports(route)\n",
        "    if not airports:  # Skip empty\n",
        "        continue\n",
        "\n",
        "    # First airport = take-off\n",
        "    take_off_counts[airports[0]] = take_off_counts.get(airports[0], 0) + 1\n",
        "\n",
        "    # Last airport = landing\n",
        "    landing_counts[airports[-1]] = landing_counts.get(airports[-1], 0) + 1\n",
        "\n",
        "    # Intermediate hops: each stop has a landing then a take-off\n",
        "    for i in range(1, len(airports) - 1):\n",
        "        landing_counts[airports[i]] = landing_counts.get(airports[i], 0) + 1\n",
        "        take_off_counts[airports[i]] = take_off_counts.get(airports[i], 0) + 1\n",
        "\n",
        "# Merge into one DataFrame\n",
        "airports_df = pd.DataFrame({\n",
        "    'Take-offs': pd.Series(take_off_counts),\n",
        "    'Landings': pd.Series(landing_counts)\n",
        "}).fillna(0)\n",
        "\n",
        "airports_df['Total Movements'] = airports_df['Take-offs'] + airports_df['Landings']\n",
        "airports_df = airports_df.sort_values('Total Movements', ascending=False)\n",
        "\n",
        "# Plot\n",
        "airports_df.head(15)[['Take-offs', 'Landings']].plot(\n",
        "    kind='barh', stacked=True, color=['#1f77b4', '#ff7f0e'], figsize=(12, 8)\n",
        ")\n",
        "\n",
        "plt.title('Busiest Airports by Take-offs and Landings (Including Stops)', fontsize=16, weight='bold')\n",
        "plt.xlabel('Number of Movements')\n",
        "plt.ylabel('Airport Code')\n",
        "plt.gca().invert_yaxis()\n",
        "plt.grid(axis='x', linestyle='--', alpha=0.6)\n",
        "plt.legend(title='Movement Type')\n",
        "plt.tight_layout()\n",
        "plt.show()\n"
      ],
      "metadata": {
        "id": "o01L0K1aZdJJ"
      },
      "execution_count": null,
      "outputs": []
    },
    {
      "cell_type": "markdown",
      "source": [
        "| IATA Code | Full Airport Name                                                                         |\n",
        "| --------- | ----------------------------------------------------------------------------------------- |\n",
        "| **BOM**   | Chhatrapati Shivaji Maharaj International Airport — Mumbai         |\n",
        "| **DEL**   | Indira Gandhi International Airport — Delhi\n",
        "| **BLR**   | Kempegowda International Airport — Bengaluru\n",
        "| **COK**   | Cochin International Airport — Kochi\n",
        "| **CCU**   | Netaji Subhas Chandra Bose International Airport — Kolkata\n",
        "| **HYD**   | Rajiv Gandhi International Airport — Hyderabad\\\n",
        "| **MAA**   | Chennai International Airport — Chennai\n",
        "| **AMD**   | Sardar Vallabhbhai Patel International Airport — Ahmedabad\n",
        "| **JAI**   | Jaipur International Airport — Jaipur\n",
        "| **BBI**   | Biju Patnaik International Airport — Bhubaneswar\n",
        "| **NAG**   | Dr. Babasaheb Ambedkar International Airport — Nagpur\n",
        "| **GAU**   | Lokpriya Gopinath Bordoloi International Airport — Guwahati\n",
        "| **GOI**   | Goa International Airport (Dabolim) — Goa\n",
        "| **PNQ**   | Pune Airport — Pune           |\n",
        "| **IDR**   | Devi Ahilya Bai Holkar Airport — Indore\n",
        "\n"
      ],
      "metadata": {
        "id": "LNC34ysSdFMy"
      }
    },
    {
      "cell_type": "code",
      "source": [
        "# Create a journey column\n",
        "df2['Journey'] = df2['Source'] + \" → \" + df2['Destination']\n",
        "\n",
        "# Group by journey for count and average price\n",
        "journey_stats = df2.groupby('Journey').agg(\n",
        "    Frequency=('Journey', 'size'),\n",
        "    Avg_Price=('Price', 'mean')\n",
        ").reset_index()\n",
        "\n",
        "# Sort by frequency\n",
        "journey_stats = journey_stats.sort_values(by='Frequency', ascending=False).head(10)\n",
        "\n",
        "# Plot\n",
        "fig, ax1 = plt.subplots(figsize=(16,6))\n",
        "\n",
        "# Bar plot for frequency\n",
        "sns.barplot(data=journey_stats, x='Journey', y='Frequency', palette='crest', ax=ax1)\n",
        "ax1.set_ylabel('Frequency', color='b')\n",
        "ax1.set_xlabel('Journey')\n",
        "ax1.tick_params(axis='y', labelcolor='b')\n",
        "ax1.set_xticklabels(ax1.get_xticklabels(), rotation=45, ha='right')\n",
        "\n",
        "# Secondary axis for average price\n",
        "ax2 = ax1.twinx()\n",
        "sns.lineplot(data=journey_stats, x='Journey', y='Avg_Price', marker='o', color='r', ax=ax2)\n",
        "ax2.set_ylabel('Average Price (₹)', color='r')\n",
        "ax2.tick_params(axis='y', labelcolor='r')\n",
        "\n",
        "plt.title(\"Most Frequent Journeys & Their Average Price\")\n",
        "plt.tight_layout()\n",
        "plt.show()\n"
      ],
      "metadata": {
        "id": "WA_GeBReetv5"
      },
      "execution_count": null,
      "outputs": []
    },
    {
      "cell_type": "code",
      "source": [
        "\n",
        "from collections import Counter\n",
        "\n",
        "\n",
        "# Remove NaN and split routes\n",
        "all_stops = df2['Route'].dropna().apply(lambda x: x.split(' → '))\n",
        "\n",
        "# Count intermediate stops\n",
        "connecting_airports = Counter()\n",
        "for route in all_stops:\n",
        "    if len(route) > 2:  # has at least 1 connecting airport\n",
        "        connecting_airports.update(route[1:-1])\n",
        "\n",
        "# Create dataframe of top 10\n",
        "top_connecting = connecting_airports.most_common(10)\n",
        "connecting_df = pd.DataFrame(top_connecting, columns=['Airport', 'Count'])\n",
        "\n",
        "# Plot\n",
        "plt.figure(figsize=(8,5))\n",
        "sns.barplot(data=connecting_df, x='Count', y='Airport', palette='viridis')\n",
        "plt.title(\"Top 10 Most Used Connecting Airports(layovers)\")\n",
        "plt.xlabel(\"Airport Code\")\n",
        "plt.ylabel(\"Count\")\n",
        "plt.xticks(rotation=45)\n",
        "plt.tight_layout()\n",
        "plt.show()\n"
      ],
      "metadata": {
        "id": "O2jsUeM8gCNJ"
      },
      "execution_count": null,
      "outputs": []
    },
    {
      "cell_type": "markdown",
      "source": [
        "\n",
        "**Insight & Opportunity:**  \n",
        "\n",
        "Data shows **BOM (Mumbai)** is by far the most used connecting airport, followed by DEL, HYD, and others.  \n",
        "Because of layovers, these airports have more advantage in restaurant-related businesses, cafés, and other F&B outlets, as passengers often have idle time.\n",
        "\n",
        "**Additional Revenue Stream:**\n",
        "\n",
        "Installing **self-service vending machines** at these top layover hubs—especially BOM—can tap into heavy foot traffic from transfer passengers.\n",
        "\n",
        "**Product Mix:**  \n",
        "- **Travel essentials:** chargers, earphones, neck pillows, SIM cards  \n",
        "- **Snacks & drinks:** bottled water, coffee cans, energy bars  \n",
        "- **Local souvenirs:** packaged sweets, small handicrafts  \n",
        "\n",
        "**Why it works:**  \n",
        "High layover volumes + limited time between flights = strong demand for quick, convenient purchases and food options.  \n",
        "Low staffing needs make vending scalable across airports."
      ],
      "metadata": {
        "id": "rTVUK66njUYJ"
      }
    },
    {
      "cell_type": "code",
      "source": [
        "# Example stop counts (replace these with your actual data counts)\n",
        "stop_counts = [\n",
        "    (df2['Total_Stops'] == '1 stop').sum(),          # One Stop\n",
        "    (df2['Total_Stops'] == 'non-stop').sum(),        # Zero Stops\n",
        "    (df2['Total_Stops'].isin(['2 stops', '3 stops'])).sum()  # Two Or More\n",
        "]\n",
        "\n",
        "labels = ['One Stop', 'Non Stop', 'Two Or More']\n",
        "colors = ['#4e79a7', '#59a14f', '#e15759']\n",
        "\n",
        "# Donut chart\n",
        "plt.figure(figsize=(6,6))\n",
        "wedges, texts, autotexts = plt.pie(\n",
        "    stop_counts,\n",
        "    labels=labels,\n",
        "    autopct='%1.1f%%',\n",
        "    colors=colors,\n",
        "    wedgeprops={'width': 0.4}\n",
        ")\n",
        "\n",
        "# Add center circle\n",
        "plt.gca().add_artist(plt.Circle((0, 0), 0.70, fc='white'))\n",
        "\n",
        "plt.title(\"stops\", fontsize=16)\n",
        "plt.show()"
      ],
      "metadata": {
        "id": "Q3FACOQFnIF6"
      },
      "execution_count": null,
      "outputs": []
    },
    {
      "cell_type": "markdown",
      "source": [
        "# Models"
      ],
      "metadata": {
        "id": "HIXhtIFM2ZGZ"
      }
    },
    {
      "cell_type": "code",
      "source": [
        "from sklearn.linear_model import LinearRegression\n",
        "from sklearn.neighbors import KNeighborsRegressor\n",
        "from sklearn.tree import DecisionTreeRegressor\n",
        "from sklearn.ensemble import GradientBoostingRegressor,RandomForestRegressor"
      ],
      "metadata": {
        "execution": {
          "iopub.status.busy": "2021-05-25T10:21:10.579336Z",
          "iopub.status.idle": "2021-05-25T10:21:10.579778Z"
        },
        "trusted": true,
        "id": "nnYb6nw-2ZGZ"
      },
      "execution_count": null,
      "outputs": []
    },
    {
      "cell_type": "code",
      "source": [
        "# spiliting the dataset\n",
        "from sklearn.model_selection import train_test_split\n",
        "X_train,X_test,y_train,y_test = train_test_split(X,y,test_size=0.20,random_state=123)"
      ],
      "metadata": {
        "execution": {
          "iopub.status.busy": "2021-05-25T10:21:10.576601Z",
          "iopub.status.idle": "2021-05-25T10:21:10.577096Z"
        },
        "trusted": true,
        "id": "v05bmSXU2ZGZ"
      },
      "execution_count": null,
      "outputs": []
    },
    {
      "cell_type": "code",
      "source": [
        "from sklearn.metrics import r2_score,mean_absolute_error,mean_squared_error\n",
        "def predict(ml_model):\n",
        "    print('Model is: {}'.format(ml_model))\n",
        "    model= ml_model.fit(X_train,y_train)\n",
        "    print(\"Training score: {}\".format(model.score(X_train,y_train)))\n",
        "    predictions = model.predict(X_test)\n",
        "    print(\"Predictions are: {}\".format(predictions))\n",
        "    print('\\n')\n",
        "    r2score=r2_score(y_test,predictions)\n",
        "    print(\"r2 score is: {}\".format(r2score))\n",
        "\n",
        "    print('MAE:{}'.format(mean_absolute_error(y_test,predictions)))\n",
        "    print('MSE:{}'.format(mean_squared_error(y_test,predictions)))\n",
        "    print('RMSE:{}'.format(np.sqrt(mean_squared_error(y_test,predictions))))\n",
        "\n",
        "    sns.distplot(y_test-predictions)\n"
      ],
      "metadata": {
        "execution": {
          "iopub.status.busy": "2021-05-25T10:21:10.577996Z",
          "iopub.status.idle": "2021-05-25T10:21:10.578438Z"
        },
        "trusted": true,
        "id": "uaigyhSH2ZGZ"
      },
      "execution_count": null,
      "outputs": []
    },
    {
      "cell_type": "code",
      "source": [
        "\n",
        "predict(RandomForestRegressor())"
      ],
      "metadata": {
        "execution": {
          "iopub.status.busy": "2021-05-25T10:21:10.580671Z",
          "iopub.status.idle": "2021-05-25T10:21:10.581149Z"
        },
        "trusted": true,
        "id": "F_ou6huw2ZGZ"
      },
      "execution_count": null,
      "outputs": []
    },
    {
      "cell_type": "code",
      "source": [
        "predict(LinearRegression())\n",
        "\n"
      ],
      "metadata": {
        "execution": {
          "iopub.status.busy": "2021-05-25T10:21:10.582057Z",
          "iopub.status.idle": "2021-05-25T10:21:10.582501Z"
        },
        "trusted": true,
        "id": "hzahN3SD2ZGa"
      },
      "execution_count": null,
      "outputs": []
    },
    {
      "cell_type": "code",
      "source": [
        "predict(KNeighborsRegressor())\n"
      ],
      "metadata": {
        "execution": {
          "iopub.status.busy": "2021-05-25T10:21:10.583744Z",
          "iopub.status.idle": "2021-05-25T10:21:10.584195Z"
        },
        "trusted": true,
        "id": "9x-JKJDG2ZGa"
      },
      "execution_count": null,
      "outputs": []
    },
    {
      "cell_type": "code",
      "source": [
        "predict(DecisionTreeRegressor())"
      ],
      "metadata": {
        "execution": {
          "iopub.status.busy": "2021-05-25T10:21:10.58522Z",
          "iopub.status.idle": "2021-05-25T10:21:10.585654Z"
        },
        "trusted": true,
        "id": "k8gUdz6w2ZGa"
      },
      "execution_count": null,
      "outputs": []
    },
    {
      "cell_type": "code",
      "source": [
        "from sklearn.svm import SVR\n",
        "predict(SVR())"
      ],
      "metadata": {
        "execution": {
          "iopub.status.busy": "2021-05-25T10:21:10.586563Z",
          "iopub.status.idle": "2021-05-25T10:21:10.587042Z"
        },
        "trusted": true,
        "id": "hXdUpBB52ZGa"
      },
      "execution_count": null,
      "outputs": []
    },
    {
      "cell_type": "code",
      "source": [
        "predict(GradientBoostingRegressor())"
      ],
      "metadata": {
        "execution": {
          "iopub.status.busy": "2021-05-25T10:21:10.587938Z",
          "iopub.status.idle": "2021-05-25T10:21:10.5884Z"
        },
        "trusted": true,
        "id": "vfADhyGO2ZGa"
      },
      "execution_count": null,
      "outputs": []
    },
    {
      "cell_type": "markdown",
      "source": [
        "# Hypertunning the model"
      ],
      "metadata": {
        "id": "fEQw-v2_2ZGa"
      }
    },
    {
      "cell_type": "code",
      "source": [
        "from sklearn.model_selection import RandomizedSearchCV\n"
      ],
      "metadata": {
        "execution": {
          "iopub.status.busy": "2021-05-25T10:21:10.5893Z",
          "iopub.status.idle": "2021-05-25T10:21:10.589733Z"
        },
        "trusted": true,
        "id": "dctidO_V2ZGa"
      },
      "execution_count": null,
      "outputs": []
    },
    {
      "cell_type": "code",
      "source": [
        "random_grid = {\n",
        "    'n_estimators' : [100, 120, 150, 180, 200,220],\n",
        "    'max_features':['auto','sqrt'],\n",
        "    'max_depth':[5,10,15,20],\n",
        "    }"
      ],
      "metadata": {
        "execution": {
          "iopub.status.busy": "2021-05-25T10:21:10.590727Z",
          "iopub.status.idle": "2021-05-25T10:21:10.591192Z"
        },
        "trusted": true,
        "id": "3YvTkCyP2ZGa"
      },
      "execution_count": null,
      "outputs": []
    },
    {
      "cell_type": "code",
      "source": [
        "rf=RandomForestRegressor()\n",
        "rf_random=RandomizedSearchCV(estimator=rf,param_distributions=random_grid,cv=3,verbose=2,n_jobs=-1,)\n",
        "\n",
        "rf_random.fit(X_train,y_train)\n",
        "\n",
        "# best parameter\n",
        "rf_random.best_params_"
      ],
      "metadata": {
        "execution": {
          "iopub.status.busy": "2021-05-25T10:21:10.592161Z",
          "iopub.status.idle": "2021-05-25T10:21:10.59261Z"
        },
        "trusted": true,
        "id": "j6ewjUvl2ZGa"
      },
      "execution_count": null,
      "outputs": []
    },
    {
      "cell_type": "code",
      "source": [
        "# best parameter\n",
        "rf_random.best_params_"
      ],
      "metadata": {
        "execution": {
          "iopub.status.busy": "2021-05-25T10:21:10.59352Z",
          "iopub.status.idle": "2021-05-25T10:21:10.593949Z"
        },
        "trusted": true,
        "id": "LANfIN2e2ZGa"
      },
      "execution_count": null,
      "outputs": []
    },
    {
      "cell_type": "code",
      "source": [
        "#predicting the values\n",
        "prediction = rf_random.predict(X_test)\n",
        "\n",
        "#distribution plot between actual value and predicted value\n",
        "sns.displot(y_test-prediction)"
      ],
      "metadata": {
        "execution": {
          "iopub.status.busy": "2021-05-25T10:21:10.595025Z",
          "iopub.status.idle": "2021-05-25T10:21:10.595464Z"
        },
        "trusted": true,
        "id": "2GoTVDIn2ZGa"
      },
      "execution_count": null,
      "outputs": []
    },
    {
      "cell_type": "code",
      "source": [
        "r2_score(y_test,prediction)"
      ],
      "metadata": {
        "execution": {
          "iopub.status.busy": "2021-05-25T10:21:10.596327Z",
          "iopub.status.idle": "2021-05-25T10:21:10.596778Z"
        },
        "trusted": true,
        "id": "SWF6SReF2ZGa"
      },
      "execution_count": null,
      "outputs": []
    },
    {
      "cell_type": "markdown",
      "source": [
        "After hypertuning accuracy incrased ."
      ],
      "metadata": {
        "id": "BbhtFxZ3kx11"
      }
    },
    {
      "cell_type": "markdown",
      "source": [
        "# ✈️ Flight Price Prediction – Project Report\n",
        "\n",
        "**Objective**  \n",
        "Predict flight ticket prices using machine learning to help customers and airlines in decision-making.\n",
        "\n",
        "---\n",
        "\n",
        "### 📊 Dataset  \n",
        "- Features: Airline, Source, Destination, Total_Stops, Duration, Route, Additional_Info  \n",
        "- Target: Price  \n",
        "\n",
        "---\n",
        "\n",
        "### ⚙️ Preprocessing  \n",
        "- Converted Duration → minutes  \n",
        "- Extracted Departure/Arrival hours  \n",
        "- Encoded categorical features (Airline, Source, Destination, Stops)  \n",
        "- Scaled numerical values  \n",
        "\n",
        "---\n",
        "\n",
        "### 🔍 EDA Highlights  \n",
        "- Non-stop flights are costliest  \n",
        "- Airline strongly affects price  \n",
        "- Duration and Stops are major predictors  \n",
        "\n",
        "---\n",
        "\n",
        "### 🤖 Models Tried  \n",
        "- Linear Regression (baseline)  \n",
        "- Decision Tree, KNN  \n",
        "- Random Forest ✅ (best)  \n",
        "- Gradient Boosting (good but slower)  \n",
        "\n",
        "---\n",
        "\n",
        "### 📈 Results  \n",
        "- **Random Forest Regressor** → Best accuracy (highest R², lowest RMSE)  \n",
        "- Gradient Boosting close second  \n",
        "\n",
        "---\n",
        "\n",
        "### 📝 Insights  \n",
        "- Fewer stops → higher prices  \n",
        "- Some airlines consistently more expensive  \n",
        "- Flight duration correlates with price  \n",
        "\n",
        "---\n",
        "\n",
        "### 🚀 Future Work  \n",
        "- Try XGBoost / LightGBM  \n",
        "- Build Flask/Streamlit app  \n",
        "- Add real-time dynamic pricing  \n",
        "\n",
        "---\n",
        "\n",
        "**Tools Used**: Python, Pandas, NumPy, Matplotlib, Seaborn, scikit-learn  \n"
      ],
      "metadata": {
        "id": "aCw9JNjwqzkW"
      }
    }
  ]
}